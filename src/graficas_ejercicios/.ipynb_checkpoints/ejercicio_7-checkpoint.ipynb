{
 "cells": [
  {
   "cell_type": "code",
   "execution_count": 1,
   "metadata": {},
   "outputs": [],
   "source": [
    "import matplotlib.pyplot as plt"
   ]
  },
  {
   "cell_type": "code",
   "execution_count": 2,
   "metadata": {},
   "outputs": [],
   "source": [
    "def m(x1, x2, y1, y2):\n",
    "    return (y2 - y1) / (x2 - x1)"
   ]
  },
  {
   "cell_type": "markdown",
   "metadata": {},
   "source": [
    "# Punto 7"
   ]
  },
  {
   "cell_type": "code",
   "execution_count": 3,
   "metadata": {},
   "outputs": [],
   "source": [
    "p1_x = [1,1]\n",
    "p1_y = [1,2]\n",
    "p2_x = [2,2]\n",
    "p2_y = [-1,0]\n",
    "p3_x = [-1,-2]\n",
    "p3_y = [2,1]\n",
    "p4_x = [-1,-2]\n",
    "p4_y = [-1,-2]\n",
    "x_1 = [0.5,-0.5]\n",
    "y_1 = [1.5,-1.5]\n",
    "x_2 = [1,0]\n",
    "y_2 = [-1,1]"
   ]
  },
  {
   "cell_type": "code",
   "execution_count": 4,
   "metadata": {},
   "outputs": [
    {
     "data": {
      "image/png": "[encoded data removed]",
      "text/plain": [
       "<Figure size 432x288 with 1 Axes>"
      ]
     },
     "metadata": {
      "needs_background": "light"
     },
     "output_type": "display_data"
    }
   ],
   "source": [
    "plt.plot(p1_x,p1_y, linestyle=\"none\", marker=\"o\", color=\"red\", label=\"P1\")\n",
    "plt.plot(p2_x,p2_y, linestyle=\"none\", marker=\"*\", color=\"green\", label=\"P2\")\n",
    "plt.plot(p3_x,p3_y, linestyle=\"none\", marker=\"+\", color=\"blue\", label=\"P3\")\n",
    "plt.plot(p4_x,p4_y, linestyle=\"none\", marker=\"s\", color=\"yellow\", label=\"P4\")\n",
    "plt.plot(x_1,y_1, marker=\"p\")\n",
    "plt.plot(x_2,y_2, marker=\"p\")\n",
    "plt.axhline(0, color=\"black\")\n",
    "plt.axvline(0, color=\"black\")\n",
    "plt.title(\" PUNTO 7\")\n",
    "plt.grid()\n",
    "plt.show()"
   ]
  },
  {
   "cell_type": "code",
   "execution_count": 7,
   "metadata": {},
   "outputs": [
    {
     "data": {
      "text/plain": [
       "3.0"
      ]
     },
     "execution_count": 7,
     "metadata": {},
     "output_type": "execute_result"
    }
   ],
   "source": [
    "m1 = m(x_1[0],x_1[1],y_1[0],y_1[1])\n",
    "m1"
   ]
  },
  {
   "cell_type": "code",
   "execution_count": 9,
   "metadata": {},
   "outputs": [
    {
     "data": {
      "text/plain": [
       "-2.0"
      ]
     },
     "execution_count": 9,
     "metadata": {},
     "output_type": "execute_result"
    }
   ],
   "source": [
    "m2 = m(x_2[0],x_2[1],y_2[0],y_2[1])\n",
    "m2"
   ]
  },
  {
   "cell_type": "code",
   "execution_count": 10,
   "metadata": {},
   "outputs": [],
   "source": [
    "def funcion_y_1(x):\n",
    "    return 3*x"
   ]
  },
  {
   "cell_type": "code",
   "execution_count": 11,
   "metadata": {},
   "outputs": [],
   "source": [
    "def funcion_y_2(x):\n",
    "    return -2*x + 1"
   ]
  }
 ],
 "metadata": {
  "kernelspec": {
   "display_name": "Python 3",
   "language": "python",
   "name": "python3"
  },
  "language_info": {
   "codemirror_mode": {
    "name": "ipython",
    "version": 3
   },
   "file_extension": ".py",
   "mimetype": "text/x-python",
   "name": "python",
   "nbconvert_exporter": "python",
   "pygments_lexer": "ipython3",
   "version": "3.5.3"
  }
 },
 "nbformat": 4,
 "nbformat_minor": 2
}
